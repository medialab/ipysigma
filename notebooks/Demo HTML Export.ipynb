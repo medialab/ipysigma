{
 "cells": [
  {
   "cell_type": "code",
   "execution_count": 1,
   "id": "98191b5a-c276-403a-8cce-94d7cd1920d8",
   "metadata": {},
   "outputs": [],
   "source": [
    "import networkx as nx\n",
    "from ipysigma import Sigma"
   ]
  },
  {
   "cell_type": "code",
   "execution_count": 2,
   "id": "f9b76e37-87e6-4b13-8643-3f3f040fbbfa",
   "metadata": {},
   "outputs": [],
   "source": [
    "g = nx.read_gexf('./data/arctic.gexf')"
   ]
  },
  {
   "cell_type": "code",
   "execution_count": 3,
   "id": "d45bfa69-1450-4062-8112-d20d009024e1",
   "metadata": {},
   "outputs": [],
   "source": [
    "Sigma.write_html(\n",
    "    g,\n",
    "    '../docs/demo/demo.html',\n",
    "    fullscreen=True,\n",
    "    node_metrics=['louvain'],\n",
    "    node_color='louvain',\n",
    "    node_size_range=(3, 20),\n",
    "    max_categorical_colors=30,\n",
    "    default_edge_type='curve',\n",
    "    node_zindex=lambda u, a: a['size'],\n",
    "    node_border_color_from='node',\n",
    "    default_node_label_size=14\n",
    ")"
   ]
  }
 ],
 "metadata": {
  "kernelspec": {
   "display_name": "Python 3 (ipykernel)",
   "language": "python",
   "name": "python3"
  },
  "language_info": {
   "codemirror_mode": {
    "name": "ipython",
    "version": 3
   },
   "file_extension": ".py",
   "mimetype": "text/x-python",
   "name": "python",
   "nbconvert_exporter": "python",
   "pygments_lexer": "ipython3",
   "version": "3.8.16"
  }
 },
 "nbformat": 4,
 "nbformat_minor": 5
}
