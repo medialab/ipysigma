{
 "cells": [
  {
   "cell_type": "code",
   "execution_count": 1,
   "id": "4885a8f2-e6fb-4cae-8e0b-abd30e7e4a76",
   "metadata": {},
   "outputs": [],
   "source": [
    "import networkx as nx\n",
    "from ipysigma import Sigma\n",
    "import pandas as pd\n",
    "import numpy as np\n",
    "from datetime import date, datetime"
   ]
  },
  {
   "cell_type": "code",
   "execution_count": 2,
   "id": "7c872353-29cf-451c-b3cf-53f4de76aca8",
   "metadata": {},
   "outputs": [],
   "source": [
    "Sigma.set_defaults(height=250)"
   ]
  },
  {
   "cell_type": "code",
   "execution_count": 3,
   "id": "693460f2-c097-40c6-819f-323c15e8f351",
   "metadata": {},
   "outputs": [],
   "source": [
    "g = nx.karate_club_graph()"
   ]
  },
  {
   "cell_type": "code",
   "execution_count": 4,
   "id": "a9792402-ec0c-44e7-96fc-cfefda0e6e47",
   "metadata": {},
   "outputs": [],
   "source": [
    "random_sizes_with_nans = np.random.random(len(g))\n",
    "random_sizes_with_nans[0:5] = np.nan"
   ]
  },
  {
   "cell_type": "code",
   "execution_count": 5,
   "id": "b583ef10-aa83-447b-8446-62612c02e729",
   "metadata": {},
   "outputs": [
    {
     "data": {
      "application/vnd.jupyter.widget-view+json": {
       "model_id": "b65739867ff24feaab827eacee43fdbd",
       "version_major": 2,
       "version_minor": 0
      },
      "text/plain": [
       "Sigma(nx.Graph with 34 nodes and 78 edges)"
      ]
     },
     "execution_count": 5,
     "metadata": {},
     "output_type": "execute_result"
    }
   ],
   "source": [
    "Sigma(g, node_size=random_sizes_with_nans, selected_node=4)"
   ]
  },
  {
   "cell_type": "code",
   "execution_count": 6,
   "id": "9253533c-c9ce-45a3-a98e-050ff5b84912",
   "metadata": {},
   "outputs": [],
   "source": [
    "for n, attr in g.nodes.data():\n",
    "    attr['datetime'] = datetime.now()\n",
    "    attr['date'] = date.today()"
   ]
  },
  {
   "cell_type": "code",
   "execution_count": 7,
   "id": "0cfa70bf-1e2e-4c18-b9cc-2f792d1ce818",
   "metadata": {},
   "outputs": [
    {
     "data": {
      "application/vnd.jupyter.widget-view+json": {
       "model_id": "4e037f4405e644218a188a65a416f40f",
       "version_major": 2,
       "version_minor": 0
      },
      "text/plain": [
       "Sigma(nx.Graph with 34 nodes and 78 edges)"
      ]
     },
     "execution_count": 7,
     "metadata": {},
     "output_type": "execute_result"
    }
   ],
   "source": [
    "Sigma(g, selected_node=4)"
   ]
  },
  {
   "cell_type": "code",
   "execution_count": 8,
   "id": "8b10f1c1-37a1-4c70-98bf-67e7d92a64ff",
   "metadata": {},
   "outputs": [],
   "source": [
    "g = nx.Graph()\n",
    "g.add_node(np.int64(1))"
   ]
  },
  {
   "cell_type": "code",
   "execution_count": 9,
   "id": "a98e145b-469f-49ab-9eba-d614cbff9647",
   "metadata": {},
   "outputs": [
    {
     "data": {
      "application/vnd.jupyter.widget-view+json": {
       "model_id": "eb9a0e981f9146e486b75c2009c1e700",
       "version_major": 2,
       "version_minor": 0
      },
      "text/plain": [
       "Sigma(nx.Graph with 1 nodes and 0 edges)"
      ]
     },
     "execution_count": 9,
     "metadata": {},
     "output_type": "execute_result"
    }
   ],
   "source": [
    "Sigma(g, selected_node=1)"
   ]
  },
  {
   "cell_type": "code",
   "execution_count": 10,
   "id": "782a9950-e85b-443c-b376-2a2c783967d9",
   "metadata": {},
   "outputs": [],
   "source": [
    "g = nx.Graph()\n",
    "g.add_node(np.float64(1))"
   ]
  },
  {
   "cell_type": "code",
   "execution_count": 11,
   "id": "7ef49a11-83b0-406a-8500-8b36d6d0a41d",
   "metadata": {},
   "outputs": [
    {
     "data": {
      "application/vnd.jupyter.widget-view+json": {
       "model_id": "646373aa83804d5491235cf9eb843e3c",
       "version_major": 2,
       "version_minor": 0
      },
      "text/plain": [
       "Sigma(nx.Graph with 1 nodes and 0 edges)"
      ]
     },
     "execution_count": 11,
     "metadata": {},
     "output_type": "execute_result"
    }
   ],
   "source": [
    "Sigma(g, selected_node=1)"
   ]
  }
 ],
 "metadata": {
  "kernelspec": {
   "display_name": "Python 3 (ipykernel)",
   "language": "python",
   "name": "python3"
  },
  "language_info": {
   "codemirror_mode": {
    "name": "ipython",
    "version": 3
   },
   "file_extension": ".py",
   "mimetype": "text/x-python",
   "name": "python",
   "nbconvert_exporter": "python",
   "pygments_lexer": "ipython3",
   "version": "3.8.2"
  }
 },
 "nbformat": 4,
 "nbformat_minor": 5
}
